{
 "cells": [
  {
   "cell_type": "markdown",
   "metadata": {},
   "source": [
    "## Aritmética de punto flotante\n",
    "Link a conversor __[IEEE 754 precisión simple](https://www.h-schmidt.net/FloatConverter/IEEE754.html)__"
   ]
  },
  {
   "cell_type": "markdown",
   "metadata": {},
   "source": [
    "¿Qué está pasando?"
   ]
  },
  {
   "cell_type": "code",
   "execution_count": 1,
   "metadata": {
    "scrolled": true
   },
   "outputs": [
    {
     "data": {
      "text/plain": [
       "0.5"
      ]
     },
     "execution_count": 1,
     "metadata": {},
     "output_type": "execute_result"
    }
   ],
   "source": [
    "0.2 + 0.3"
   ]
  },
  {
   "cell_type": "code",
   "execution_count": 2,
   "metadata": {},
   "outputs": [
    {
     "name": "stdout",
     "output_type": "stream",
     "text": [
      "0.3\n"
     ]
    }
   ],
   "source": [
    "x = 0.3\n",
    "print(x)"
   ]
  },
  {
   "cell_type": "code",
   "execution_count": 3,
   "metadata": {},
   "outputs": [
    {
     "data": {
      "text/plain": [
       "0.09999999999999998"
      ]
     },
     "execution_count": 3,
     "metadata": {},
     "output_type": "execute_result"
    }
   ],
   "source": [
    "0.3 - 0.2"
   ]
  },
  {
   "cell_type": "markdown",
   "metadata": {},
   "source": [
    "- ¿Cuánto da $(\\sqrt{2})^2 - 2$?\n"
   ]
  },
  {
   "cell_type": "code",
   "execution_count": 6,
   "metadata": {},
   "outputs": [
    {
     "data": {
      "text/plain": [
       "4.440892098500626e-16"
      ]
     },
     "execution_count": 6,
     "metadata": {},
     "output_type": "execute_result"
    }
   ],
   "source": [
    "import numpy as np\n",
    "np.sqrt(2)**2-2 "
   ]
  },
  {
   "cell_type": "markdown",
   "metadata": {},
   "source": [
    "- ¿Cuál es el límite cuando $n \\rightarrow \\infty$ de esta sucesión?\n",
    "$$\n",
    "\\begin{aligned}\n",
    "x_1 &= \\sqrt{2} \\\\\n",
    "x_{n+1} &= \\frac{x_n \\cdot x_n}{\\sqrt{2}}\n",
    "\\end{aligned}\n",
    "$$"
   ]
  },
  {
   "cell_type": "code",
   "execution_count": 23,
   "metadata": {},
   "outputs": [
    {
     "name": "stdout",
     "output_type": "stream",
     "text": [
      "1.4142135623730951\n",
      "inf\n",
      "[1.41421356e+000 1.41421356e+000 1.41421356e+000 1.41421356e+000\n",
      " 1.41421356e+000 1.41421356e+000 1.41421356e+000 1.41421356e+000\n",
      " 1.41421356e+000 1.41421356e+000 1.41421356e+000 1.41421356e+000\n",
      " 1.41421356e+000 1.41421356e+000 1.41421356e+000 1.41421356e+000\n",
      " 1.41421356e+000 1.41421356e+000 1.41421356e+000 1.41421356e+000\n",
      " 1.41421356e+000 1.41421356e+000 1.41421356e+000 1.41421356e+000\n",
      " 1.41421357e+000 1.41421357e+000 1.41421357e+000 1.41421359e+000\n",
      " 1.41421361e+000 1.41421366e+000 1.41421375e+000 1.41421393e+000\n",
      " 1.41421431e+000 1.41421505e+000 1.41421654e+000 1.41421951e+000\n",
      " 1.41422545e+000 1.41423734e+000 1.41426113e+000 1.41430869e+000\n",
      " 1.41440383e+000 1.41459413e+000 1.41497480e+000 1.41573644e+000\n",
      " 1.41726096e+000 1.42031493e+000 1.42644262e+000 1.43877742e+000\n",
      " 1.46376794e+000 1.51505871e+000 1.62309495e+000 1.86282842e+000\n",
      " 2.45375227e+000 4.25741935e+000 1.28167485e+001 1.16155753e+002\n",
      " 9.54039707e+003 6.43602767e+007 2.92900969e+015 6.06633819e+030\n",
      " 2.60218541e+061 4.78808088e+122 1.62109311e+245             inf\n",
      "             inf             inf             inf             inf\n",
      "             inf             inf]\n"
     ]
    },
    {
     "name": "stderr",
     "output_type": "stream",
     "text": [
      "/tmp/ipykernel_36795/1020782371.py:6: RuntimeWarning: overflow encountered in double_scalars\n",
      "  x = (x * x) / np.sqrt(2)\n"
     ]
    }
   ],
   "source": [
    "x = np.sqrt(2)\n",
    "print(x)\n",
    "n = 70\n",
    "y = np.zeros(n)\n",
    "for i in range(n):\n",
    "    x = (x * x) / np.sqrt(2)\n",
    "    y[i] = x\n",
    "print(x)\n",
    "print(y)"
   ]
  },
  {
   "cell_type": "code",
   "execution_count": 25,
   "metadata": {},
   "outputs": [
    {
     "data": {
      "image/png": "[encoded data removed]",
      "text/plain": [
       "<Figure size 640x480 with 1 Axes>"
      ]
     },
     "metadata": {},
     "output_type": "display_data"
    }
   ],
   "source": [
    "# printeamos errores\n",
    "import matplotlib.pyplot as plt\n",
    "x = np.arange(1,n+1)\n",
    "\n",
    "plt.yscale(\"log\")\n",
    "plt.xlabel(\"Iteraciones\")\n",
    "plt.ylabel(\"Error\")\n",
    "plt.plot(x, y)\n",
    "plt.show()"
   ]
  },
  {
   "cell_type": "markdown",
   "metadata": {},
   "source": [
    "## Acumulación de errores"
   ]
  },
  {
   "cell_type": "markdown",
   "metadata": {},
   "source": [
    "1. Se quiere calcular \n",
    "$$\n",
    "\\sum_{i=1}^{10^7} \\frac{1}{i} \\quad y \\quad \\sum_{i=1}^{2\\cdot10^7} \\frac{1}{i} \n",
    "$$\n",
    "usando aritmética de simple precisión (float32).\n",
    "\n",
    "Realizar para cada una de las expresiones un script que calcule el resultado. Qué se observa?"
   ]
  },
  {
   "cell_type": "code",
   "execution_count": 20,
   "metadata": {
    "scrolled": true
   },
   "outputs": [
    {
     "name": "stdout",
     "output_type": "stream",
     "text": [
      "suma =  16.695311365857272\n",
      "suma =  17.388458521417103\n"
     ]
    }
   ],
   "source": [
    "import numpy as np\n",
    "\n",
    "n = 7\n",
    "s1 = np.float32(0)\n",
    "for i in range(1,10**n+1):\n",
    "    s1 += 1/i\n",
    "\n",
    "print(\"suma = \", s1)\n",
    "\n",
    "s2 = np.float32(0)\n",
    "for i in range(1,2*10**n+1):\n",
    "    s2 += 1/i\n",
    "\n",
    "print(\"suma = \", s2)\n"
   ]
  },
  {
   "cell_type": "markdown",
   "metadata": {},
   "source": [
    "¿Qué modificación harías para reducir los errores numéricos?"
   ]
  },
  {
   "cell_type": "code",
   "execution_count": null,
   "metadata": {},
   "outputs": [],
   "source": []
  },
  {
   "cell_type": "markdown",
   "metadata": {},
   "source": [
    "2. Utilizar las mismas estrategias para estimar $e$ mediante la serie\n",
    "$$\n",
    "e \\approx \\sum_{n=0}^{10} \\frac{1}{n!}.\n",
    "$$\n",
    "\n",
    "Comparar con el valor real."
   ]
  },
  {
   "cell_type": "code",
   "execution_count": 28,
   "metadata": {},
   "outputs": [
    {
     "name": "stdout",
     "output_type": "stream",
     "text": [
      "2.718281828459045\n",
      "suma = 1.7182818284590455\n"
     ]
    }
   ],
   "source": [
    "print(np.exp(1))\n",
    "\n",
    "s = np.float32(0)\n",
    "fact = 1\n",
    "for i in range(1,100):\n",
    "    fact *= i\n",
    "    s += 1/fact\n",
    "\n",
    "print('suma =', s)"
   ]
  },
  {
   "cell_type": "markdown",
   "metadata": {},
   "source": [
    "3. El siguiente código suma 1 10^8 veces. ¿Coincide la respuesta con el valor esperado? ¿Es posible modificar el código para calcular el valor correcto?"
   ]
  },
  {
   "cell_type": "code",
   "execution_count": null,
   "metadata": {},
   "outputs": [],
   "source": [
    "print(10**8)\n",
    "\n",
    "c = np.float32(0)\n",
    "\n",
    "for i in range(10**8):\n",
    "    c += np.float32(1)\n",
    "\n",
    "print(c)\n"
   ]
  }
 ],
 "metadata": {
  "kernelspec": {
   "display_name": "Python 3 (ipykernel)",
   "language": "python",
   "name": "python3"
  },
  "language_info": {
   "codemirror_mode": {
    "name": "ipython",
    "version": 3
   },
   "file_extension": ".py",
   "mimetype": "text/x-python",
   "name": "python",
   "nbconvert_exporter": "python",
   "pygments_lexer": "ipython3",
   "version": "3.10.9"
  }
 },
 "nbformat": 4,
 "nbformat_minor": 4
}
