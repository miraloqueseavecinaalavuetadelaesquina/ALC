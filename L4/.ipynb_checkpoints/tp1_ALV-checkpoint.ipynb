{
 "cells": [
  {
   "cell_type": "markdown",
   "id": "123e1a70-ccbe-405c-9391-df8e414795c0",
   "metadata": {},
   "source": [
    "# Trabajo Practico 1"
   ]
  },
  {
   "cell_type": "markdown",
   "id": "51c48103-89e8-4422-892a-bf0e5fcc72ee",
   "metadata": {},
   "source": [
    "***\n",
    "<div class=\"pull-left\">01 de octubre de 2023 </div><div class=\"pull-right\">Algebra lineal computacional</div>"
   ]
  },
  {
   "cell_type": "markdown",
   "id": "520526b6-26a8-4f5b-abee-018a0555c4bc",
   "metadata": {},
   "source": [
    "<div class=\"pull-right\">Docentes: Constanza Sanchez Vega, Pablo Negri, Ignacio Gonzalez Tafler  </div>\n",
    "<div class=\"pull-right\">JPT: Silvina Dengra  </div>\n",
    "<div class=\"pull-right\">Ayudante de 1ra: Juan Winograd  </div>\n",
    "<div class=\"pull-right\">Ayudantes de 2ra: Dario Turco, Gonzalo Carabajal, Guido Freire  </div>"
   ]
  },
  {
   "cell_type": "markdown",
   "id": "fe870c70-afbd-4526-bc8a-537fe31a8348",
   "metadata": {},
   "source": [
    "| Integrante | LU | Correo electrónico |\n",
    "| -- | -- | -- |\n",
    "| Antony Suarez | 792/21 | sebastsuar@gmail.com |\n",
    "| Valentin Villanueva| 1945/21 | valentincordoba00@gmail.com |"
   ]
  },
  {
   "cell_type": "markdown",
   "id": "71472966-5a7c-4d0e-a4b6-f3ef75723e44",
   "metadata": {},
   "source": [
    "# Tabla de contenidos\n",
    "\n",
    "* [Introducción](#Introducción)\n",
    "\n"
   ]
  },
  {
   "cell_type": "markdown",
   "id": "1ebb711d-7ed6-4be4-a129-319ec91540d6",
   "metadata": {},
   "source": [
    "# Introducción"
   ]
  },
  {
   "cell_type": "markdown",
   "id": "7003fda0-345a-4c32-bded-38bb6db3733e",
   "metadata": {},
   "source": [
    "# Idea"
   ]
  },
  {
   "cell_type": "markdown",
   "id": "1f2b8885-d8ac-499a-93bc-34fa7cbfdb3a",
   "metadata": {},
   "source": [
    "Descomposición LU.\n",
    "\n",
    "Tanto para resolver el sistemas como para calcular la inversa vamos a usar la descomposición *LU* .\n",
    "Sea $A \\in \\mathbb{R}^{n \\times n}$ a la cual le queremos calcular la descomposición *LU* . Para ello, lo calcularemos en\n",
    "bloques en vez del método tradicional de triangulación.\n",
    "Supongamos que *A* tiene descomposición *LU* ; es decir podemos descomponerla en *L*, *U* $\\in \\mathbb{R}^{n \\times n}$\n",
    "escribiendo la descomposición en bloques de la forma:\n",
    "\n",
    "A = LU\n",
    "\u0012\n",
    "a11 A12\n",
    "A21 A22\n",
    "\u0013\n",
    "\u0012\n",
    "1\n",
    "0\n",
    "L21 L22\n",
    "=\n",
    "\u0013\u0012\n",
    "\u0013\n",
    "u11 U12\n",
    "0 U22\n",
    "donde a11 , u11 son escalares, A12 ∈ R1×(n−1) (vector fila), L21 ∈ R(n−1)×1 (vector columna), U12 ∈\n",
    "R1×(n−1) (vector fila), y L22 , U22 ∈ R(n−1)×(n−1) . Realizando la multiplicación por bloques obtenemos\n",
    "la siguiente igualdad:\n",
    "\u0013\n",
    "\u0013 \u0012\n",
    "\u0012\n",
    "u11\n",
    "U12\n",
    "a11 A12\n",
    "=\n",
    "L21 u11 L21 U12 + L22 U22\n",
    "A21 A22\n",
    "De aquı́ obtenemos las siguientes ecuaciones:\n",
    "u11 = a11\n",
    "U12 = A12\n",
    "A21\n",
    "L21 =\n",
    "u11\n",
    "Estas 3 ecuaciones nos permitirán despejar y obtener el contenido de estos 3 bloques. Ahora, nos\n",
    "queda la última ecuación:\n",
    "A22 = L21 U12 + L22 U22\n",
    "Despejando, nos queda:\n",
    "A22 − L21 U12 = L22 U22\n",
    "con L21 U12 un producto de vector columna por vector fila (que resulta en una matriz). Aquı́ lleg-\n",
    "amos a una ecuación donde nuestras incógnitas son las dos matrices L22 (triangular inferior con\n",
    "unos en la diagonal) y U22 (triangular superior), es decir, una descomposción LU . Si resolvemos\n",
    "(recursivamente) la descomposición LU de A22 − L21 U12 , podemos obtener los dos bloques que nos\n",
    "faltan."
   ]
  },
  {
   "cell_type": "code",
   "execution_count": null,
   "id": "3978b512-63bb-4340-bac1-b915093a1e4e",
   "metadata": {},
   "outputs": [],
   "source": []
  }
 ],
 "metadata": {
  "kernelspec": {
   "display_name": "Python 3 (ipykernel)",
   "language": "python",
   "name": "python3"
  },
  "language_info": {
   "codemirror_mode": {
    "name": "ipython",
    "version": 3
   },
   "file_extension": ".py",
   "mimetype": "text/x-python",
   "name": "python",
   "nbconvert_exporter": "python",
   "pygments_lexer": "ipython3",
   "version": "3.10.9"
  }
 },
 "nbformat": 4,
 "nbformat_minor": 5
}
