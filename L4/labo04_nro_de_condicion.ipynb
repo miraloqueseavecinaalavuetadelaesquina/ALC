{
 "cells": [
  {
   "cell_type": "markdown",
   "metadata": {
    "id": "Kq98NiDqWK-l"
   },
   "source": [
    "# **Laboratorio N°4: Número de Condición**\n"
   ]
  },
  {
   "cell_type": "code",
   "execution_count": 1,
   "metadata": {
    "id": "6atTtblVBdyJ"
   },
   "outputs": [],
   "source": [
    "import numpy as np\n",
    "import matplotlib.pyplot as plt"
   ]
  },
  {
   "cell_type": "markdown",
   "metadata": {
    "id": "FZ4ubXwRWkxS"
   },
   "source": [
    "## Ejercicio 1"
   ]
  },
  {
   "cell_type": "markdown",
   "metadata": {
    "id": "g2c9AtS1miT3"
   },
   "source": [
    "En este ejercicio vamos a probar o refutar algunas propiedades sobre el numero de condicion.\n",
    "En cada item tendremos un propiedad que puede ser verdadera o falsa.\n",
    " - En caso de ser verdadera: dar su demostracion.\n",
    " - En caso de ser falsa: utilizar numpy para dar un contraejemplo.\n",
    "\n",
    "Utilizar el comando `np.linalg.cond`."
   ]
  },
  {
   "cell_type": "markdown",
   "metadata": {
    "id": "A-372eKMoxfv"
   },
   "source": [
    "**(a)** $Cond_2(A)$ + $Cond_2(B)$ = $Cond_2(A+B)$"
   ]
  },
  {
   "cell_type": "code",
   "execution_count": 7,
   "metadata": {
    "id": "Yv2s8jG8mLCf"
   },
   "outputs": [
    {
     "name": "stdout",
     "output_type": "stream",
     "text": [
      "cond A + B :  33.96173852760204\n",
      "cond(A) :  682434.0333183279\n",
      "cond(B) :  16.393731622284367\n"
     ]
    }
   ],
   "source": [
    "A = np.array([[1,2,3],[1.01,2.00003,2.899999], [0.97, 2,3.3]])\n",
    "B = np.array([[1,1,1],[1,2,2], [1,2,3]])\n",
    "\n",
    "kA = np.linalg.cond(A)\n",
    "kB = np.linalg.cond(B)\n",
    "kAuB = np.linalg.cond(A+B)\n",
    "\n",
    "print(\"cond A + B : \", kAuB)\n",
    "print(\"cond(A) : \", kA)\n",
    "print(\"cond(B) : \", kB)\n"
   ]
  },
  {
   "cell_type": "markdown",
   "metadata": {
    "id": "QwSNVeEdrQpB"
   },
   "source": [
    "**(b)** $Cond_1(A)$ - $Cond_1(B)$ = $Cond_2(A-B)$"
   ]
  },
  {
   "cell_type": "code",
   "execution_count": 8,
   "metadata": {
    "id": "47LDxl3IrXaP"
   },
   "outputs": [
    {
     "name": "stdout",
     "output_type": "stream",
     "text": [
      "cond A + B :  20.090033027607745\n",
      "cond(A) :  852655.282040249\n",
      "cond(B) :  16.393731622284367\n"
     ]
    }
   ],
   "source": [
    "A = np.array([[2,3,4],[2.01,3.00003,3.899999], [1.97, 3,4.3]])\n",
    "B = np.array([[1,1,1],[1,2,2], [1,2,3]])\n",
    "\n",
    "kA = np.linalg.cond(A)\n",
    "kB = np.linalg.cond(B)\n",
    "kAminusB = np.linalg.cond(A-B)\n",
    "\n",
    "print(\"cond A - B : \", kAminusB)\n",
    "print(\"cond(A) : \", kA)\n",
    "print(\"cond(B) : \", kB)"
   ]
  },
  {
   "cell_type": "markdown",
   "metadata": {
    "id": "0t1kpuIerYgi"
   },
   "source": [
    "**(c)** $Cond_2(A)$ * $Cond_2(B)$ = $Cond_2(A.B)$"
   ]
  },
  {
   "cell_type": "code",
   "execution_count": 37,
   "metadata": {
    "id": "4HB6oTEcrhdf"
   },
   "outputs": [
    {
     "name": "stdout",
     "output_type": "stream",
     "text": [
      "[[1.       2.       3.      ]\n",
      " [1.01     4.00006  5.799998]\n",
      " [0.97     4.       9.9     ]]\n",
      "cond A*B :  32.0253358705163\n",
      "cond(A) :  682434.0333183279\n",
      "cond(B) :  16.393731622284367\n"
     ]
    }
   ],
   "source": [
    "A = np.array([[1,2,3],[1.01,2.00003,2.899999], [0.97, 2,3.3]])\n",
    "B = np.array([[1,1,1],[1,2,2], [1,2,3]])\n",
    "\n",
    "kA = np.linalg.cond(A)\n",
    "kB = np.linalg.cond(B)\n",
    "kAxB = np.linalg.cond(A*B)\n",
    "print(A*B)\n",
    "print(\"cond A*B : \", kAxB)\n",
    "print(\"cond(A) : \", kA)\n",
    "print(\"cond(B) : \", kB)"
   ]
  },
  {
   "cell_type": "markdown",
   "metadata": {
    "id": "IUuL-FA3WiT9"
   },
   "source": [
    "## Ejercicio 2"
   ]
  },
  {
   "cell_type": "markdown",
   "metadata": {
    "id": "8d_oakt6WyjI"
   },
   "source": [
    "El objetivo de este ejercicio es estudiar el número de condición de\n",
    "algunas matrices a medida que su tamaño aumenta.\n"
   ]
  },
  {
   "cell_type": "markdown",
   "metadata": {
    "id": "mtcF4XEcWw2X"
   },
   "source": [
    "\n",
    "**(a)** Programar funciones que, dado $n \\in \\mathbb{N}$, devuelvan las siguientes matrices de $\\mathbb{R}^{n\\times n}$. La función que define $B_n$ ya viene dada."
   ]
  },
  {
   "cell_type": "markdown",
   "metadata": {
    "id": "b_WTw5VmMcXY"
   },
   "source": [
    "\n",
    "\\begin{equation*}\n",
    "A_n=\n",
    "\\begin{pmatrix}\n",
    "\\frac{1}{n} & 0 & 0 & \\cdots  & n^2\\\\\n",
    "0 & \\frac{1}{n} & 0 & \\cdots & 0 \\\\\n",
    "0 & 0 & \\frac{1}{n} & \\cdots & 0\\\\\n",
    "\\vdots & \\vdots & \\vdots  & \\ddots & \\vdots\\\\\n",
    "1 & 0 & 0 & \\cdots &  \\frac{1}{n}\\\\\n",
    "\\end{pmatrix}\n",
    "\\qquad\n",
    "B_n=\n",
    "\\begin{pmatrix}\n",
    "4 & 1 & 0 & \\cdots & 0 & 0\\\\\n",
    "1 & 4 & 1 & \\cdots & 0 & 0 \\\\\n",
    "0 & 1 & 4 & \\ddots &  & \\vdots\\\\\n",
    "\\vdots & \\vdots & \\ddots & \\ddots & \\ddots & \\vdots \\\\\n",
    "0 & 0 &  & \\ddots & 4 & 1\\\\\n",
    "0 & 0 & \\cdots & \\cdots & 1 & 4 \\\\\n",
    "\\end{pmatrix}\n",
    "\\qquad\n",
    "H_n=\n",
    "\\begin{pmatrix}\n",
    "1 & \\frac{1}{2} & \\frac{1}{3} & \\cdots  & \\frac{1}{n}\\\\\n",
    "\\frac{1}{2} & \\frac{1}{3} & \\frac{1}{4} & \\cdots & \\frac{1}{n+1} \\\\\n",
    "\\frac{1}{3} & \\frac{1}{4} & \\frac{1}{5} & \\cdots & \\frac{1}{n+2}\\\\\n",
    "\\vdots & \\vdots & \\vdots  & \\ddots & \\vdots\\\\\n",
    "\\frac{1}{n} & \\frac{1}{n+1} & 0 & \\cdots &  \\frac{1}{2n-1}\\\\\n",
    "\\end{pmatrix}\n",
    "\\end{equation*}\n",
    "\n"
   ]
  },
  {
   "cell_type": "markdown",
   "metadata": {
    "id": "xtdPNSyPW1VA"
   },
   "source": [
    "**Sugerencia:** Utilizar la función `np.diag` que recibe un array de números y genera una matriz diagonal con elementos dados por el array.\n",
    "\n",
    "\n"
   ]
  },
  {
   "cell_type": "code",
   "execution_count": 29,
   "metadata": {
    "id": "k6zUVVx1TFIK"
   },
   "outputs": [],
   "source": [
    "def matriz_B(n):\n",
    "  B = np.eye(n, k=-1) + 4*np.eye(n, k=0) + np.eye(n, k=1)\n",
    "  return B\n",
    "\n",
    "def matriz_A(n):\n",
    "    A = (1/n)*np.eye(n,k=0)\n",
    "    A[0][n-1] = n*n\n",
    "    A[n-1][0] = 1\n",
    "    return A\n",
    "\n",
    "def matriz_H(n):\n",
    "    H = np.zeros((n,n))\n",
    "    for i in range(n):\n",
    "        for j in range(n):\n",
    "            H[i][j] = 1/(i+j+1)\n",
    "    return H\n",
    "\n"
   ]
  },
  {
   "cell_type": "code",
   "execution_count": 30,
   "metadata": {},
   "outputs": [
    {
     "name": "stdout",
     "output_type": "stream",
     "text": [
      "[[1.         0.5        0.33333333 0.25      ]\n",
      " [0.5        0.33333333 0.25       0.2       ]\n",
      " [0.33333333 0.25       0.2        0.16666667]\n",
      " [0.25       0.2        0.16666667 0.14285714]]\n"
     ]
    }
   ],
   "source": [
    "H = matriz_H(4)\n",
    "print(H)\n",
    "\n"
   ]
  },
  {
   "cell_type": "markdown",
   "metadata": {
    "id": "7eEfvH42XDN6"
   },
   "source": [
    "**(b)** Graficar para 100 vectores **unitarios** (en norma 2), $v\\in\\mathbb{R^2}$, $\\; A_2v,\\ B_2v,\\ H_2v$"
   ]
  },
  {
   "cell_type": "code",
   "execution_count": 39,
   "metadata": {},
   "outputs": [
    {
     "name": "stdout",
     "output_type": "stream",
     "text": [
      "[[4. 1.]\n",
      " [1. 4.]]\n",
      "[[-0.36661107  0.30489476  0.1194577   0.00702923 -0.22536968 -0.2823231\n",
      "   0.39556743 -0.27279917 -0.43113747 -0.45379107  0.19740491  0.16485205\n",
      "  -0.31150973  0.44940156 -0.02417774 -0.41784669  0.38579395 -0.11334747\n",
      "  -0.05701234  0.14012823 -0.24125777 -0.27134502  0.40550572  0.49181124\n",
      "  -0.16566118  0.37020701  0.32388188 -0.07933941  0.17256941  0.12454899\n",
      "  -0.05827314 -0.37082705 -0.22517318 -0.16934771 -0.29416914 -0.45039411\n",
      "  -0.01495864  0.02144168  0.04051255 -0.03372706  0.38787845  0.44363515\n",
      "   0.09105575  0.42415456 -0.46400217  0.22955027  0.12581531  0.13367354\n",
      "   0.38775569 -0.45377758  0.46673539  0.44486289 -0.39980837  0.01728278\n",
      "   0.16597943  0.03362537 -0.36947397 -0.24189955  0.07333216  0.23882746\n",
      "   0.07217545  0.01447221  0.33682169  0.14899598 -0.1660145  -0.10678509\n",
      "   0.47009982  0.15898601  0.19558279 -0.43541357 -0.15231086 -0.15422033\n",
      "   0.42120295  0.36136352  0.41418374  0.35579406 -0.45018357  0.21405604\n",
      "   0.4054119   0.36584492 -0.20407996  0.07391152  0.26044405 -0.35943394\n",
      "  -0.09247762  0.16795472 -0.22955145 -0.05366566  0.22842411  0.30217596\n",
      "  -0.47792024 -0.36366446 -0.26874428  0.43665175  0.28373524 -0.02853093\n",
      "   0.01195282  0.16099499 -0.13350744  0.33722038]\n",
      " [-0.18830562  0.31810719  0.46612923  0.01325657 -0.37737742 -0.19411373\n",
      "   0.08468861 -0.03207195 -0.20274876  0.40063415  0.22443985 -0.00483345\n",
      "  -0.25214232  0.48481699 -0.1084585  -0.2224523  -0.1942859  -0.27565532\n",
      "  -0.20608709 -0.43872683  0.45267267 -0.17702528  0.25261054  0.05038357\n",
      "  -0.27741167 -0.25236056 -0.23733854 -0.34076128 -0.16030055  0.14478831\n",
      "   0.24571759  0.15245735 -0.1867065  -0.40194128  0.03072422 -0.16355623\n",
      "  -0.20895438  0.25321662  0.16441203  0.39949086 -0.30899327 -0.02371797\n",
      "   0.49675208 -0.06489341 -0.08996633 -0.19064166  0.45737881  0.24791328\n",
      "   0.40429075  0.21037813 -0.34123383  0.2398415  -0.11878369  0.48829683\n",
      "   0.20955405  0.01558321  0.21775666  0.13463924  0.19737099 -0.28446748\n",
      "  -0.2919769   0.32748219 -0.34103539 -0.45532496 -0.46022031  0.44574896\n",
      "  -0.32178435 -0.24591314  0.10908833 -0.18515501  0.21147662 -0.14407411\n",
      "  -0.18172321 -0.02644754  0.37533681  0.03617059 -0.09628778 -0.23879528\n",
      "   0.16280373 -0.3447953   0.06125667  0.25260949  0.25851697  0.22504223\n",
      "  -0.32804119 -0.31161209  0.42577238  0.32374117  0.4368551  -0.45770324\n",
      "  -0.36551951  0.27420529 -0.13312564  0.06022437 -0.17808274  0.44001205\n",
      "  -0.02431123  0.06613379  0.4591319  -0.41412615]]\n"
     ]
    }
   ],
   "source": [
    "B = matriz_B(2)\n",
    "V = np.random.rand(2, 100) - 0.5\n",
    "\n",
    "print(B)\n",
    "print(V)"
   ]
  },
  {
   "cell_type": "code",
   "execution_count": 38,
   "metadata": {
    "id": "a9PLSevGBdyP"
   },
   "outputs": [
    {
     "data": {
      "text/plain": [
       "<matplotlib.legend.Legend at 0x7f58f3e5cd30>"
      ]
     },
     "execution_count": 38,
     "metadata": {},
     "output_type": "execute_result"
    },
    {
     "data": {
      "image/png": "[encoded data removed]",
      "text/plain": [
       "<Figure size 432x288 with 1 Axes>"
      ]
     },
     "metadata": {
      "needs_background": "light"
     },
     "output_type": "display_data"
    }
   ],
   "source": [
    "B = matriz_B(2)\n",
    "V = np.random.rand(2, 100) - 0.5\n",
    "#V = #COMPLETAR\n",
    "BV = B@V\n",
    "\n",
    "plt.scatter(V[0], V[1], label = \"v\")\n",
    "plt.scatter(BV[0], BV[1], label = \"Bv\")\n",
    "plt.legend()\n"
   ]
  },
  {
   "cell_type": "markdown",
   "metadata": {
    "id": "Md7M-6jCBdyR"
   },
   "source": [
    "**(c)** Programar una función que, dada una matriz $M_n$ y un número natural $N$, guarde en un vector el valor de $Cond_2(M_n)$ para $1\\leq n \\leq N$."
   ]
  },
  {
   "cell_type": "code",
   "execution_count": 59,
   "metadata": {
    "id": "34JfYEu3XdNy"
   },
   "outputs": [],
   "source": [
    "def vector_condicion(M, N):       \n",
    "    v = np.zeros(N)\n",
    "\n",
    "    for k in range(1,N+1):\n",
    "        MTemp = M(k)\n",
    "        v[k-1] = np.linalg.cond(MTemp[0:k,0:k])\n",
    "\n",
    "    return v"
   ]
  },
  {
   "cell_type": "code",
   "execution_count": 66,
   "metadata": {},
   "outputs": [
    {
     "name": "stdout",
     "output_type": "stream",
     "text": [
      "[1, 2, 3, 4, 5, 6, 7, 8, 9]\n"
     ]
    }
   ],
   "source": [
    "l = list(range(1,10))\n",
    "print(l)"
   ]
  },
  {
   "cell_type": "markdown",
   "metadata": {
    "id": "9Ehr99OvXyy_"
   },
   "source": [
    "**(d)** Realizar gráficos del número de condición en norma 2 de las matrices definidas arriba para $N=10$.\n"
   ]
  },
  {
   "cell_type": "code",
   "execution_count": 72,
   "metadata": {
    "id": "iHmlrA7sZf-n"
   },
   "outputs": [
    {
     "data": {
      "image/png": "[encoded data removed]",
      "text/plain": [
       "<Figure size 432x288 with 1 Axes>"
      ]
     },
     "metadata": {
      "needs_background": "light"
     },
     "output_type": "display_data"
    }
   ],
   "source": [
    "n= 100\n",
    "x= np.arange(1,n+1)\n",
    "yA= vector_condicion(matriz_A,n)\n",
    "yB= vector_condicion(matriz_B,n)\n",
    "\n",
    "plt.plot(x, yA)\n",
    "plt.plot(x, yB)\n",
    "plt.show()"
   ]
  },
  {
   "cell_type": "markdown",
   "metadata": {
    "id": "eZaokS9SaAuA"
   },
   "source": [
    "**Sugerencia:** Si es necesario, utilizar una escala logarítmica en el eje $y$."
   ]
  },
  {
   "cell_type": "markdown",
   "metadata": {
    "id": "fpFKeooJafn3"
   },
   "source": [
    "**(e)** Repetir el ítem (c) para la matriz de Hilbert con $N=50$. ¿Cómo se explica el comportamiento observado?"
   ]
  },
  {
   "cell_type": "code",
   "execution_count": 73,
   "metadata": {
    "id": "XARk-RBZcvqG"
   },
   "outputs": [
    {
     "data": {
      "image/png": "[encoded data removed]",
      "text/plain": [
       "<Figure size 432x288 with 1 Axes>"
      ]
     },
     "metadata": {
      "needs_background": "light"
     },
     "output_type": "display_data"
    }
   ],
   "source": [
    "n= 50\n",
    "x= np.arange(1,n+1)\n",
    "y= vector_condicion(matriz_H,n)\n",
    "\n",
    "plt.plot(x, y)\n",
    "plt.show()"
   ]
  },
  {
   "cell_type": "markdown",
   "metadata": {
    "id": "bmaVGeUleqwI"
   },
   "source": [
    "## Ejercicio 3 (Ej 20 - Práctica 2)"
   ]
  },
  {
   "cell_type": "markdown",
   "metadata": {
    "id": "P4mH1SW6fmBb"
   },
   "source": [
    "Sea\n",
    "$A=\\left(\n",
    "\\begin{array}{ccc}\n",
    "3&0 & 0\\\\\n",
    "0& \\frac 54 & \\frac 34\\\\\n",
    "0& \\frac 34 & \\frac 54\\\\\n",
    "\\end{array}\n",
    "\\right).$\n",
    "\n"
   ]
  },
  {
   "cell_type": "code",
   "execution_count": 76,
   "metadata": {
    "id": "-0sjdy5Ml4k_"
   },
   "outputs": [
    {
     "name": "stdout",
     "output_type": "stream",
     "text": [
      "3.0\n"
     ]
    }
   ],
   "source": [
    "A = np.array([[3.0, 0, 0], [0, 5/4, 3/4], [0, 3/4, 4/5]])\n",
    "\n",
    "s = np.sum(A,axis=0)\n",
    "print(np.amax(s))"
   ]
  },
  {
   "cell_type": "markdown",
   "metadata": {
    "id": "M-TFe8n7gMXJ"
   },
   "source": [
    "(a) Calcular $Cond_\\infty(A)$.\n"
   ]
  },
  {
   "cell_type": "code",
   "execution_count": 79,
   "metadata": {
    "id": "k5jQ_Wz-l2I2"
   },
   "outputs": [
    {
     "name": "stdout",
     "output_type": "stream",
     "text": [
      "3.0\n"
     ]
    }
   ],
   "source": [
    "def k_inf(M):\n",
    "    max_s = np.amax(np.sum(M, axis=0))\n",
    "    return max_s\n",
    "\n",
    "print(k_inf(A))\n",
    "        "
   ]
  },
  {
   "cell_type": "markdown",
   "metadata": {
    "id": "jlUl52wZgPjD"
   },
   "source": [
    "(b) ¿Cuán chico debe ser el error relativo en los datos, $\\frac{\\|b-\\tilde{b}\\|}{\\|b\\|}$, si se desea que el error relativo en la aproximación de la solución, $\\frac{\\|x-\\tilde{x}\\|}{\\|x\\|}, $ sea menor que $10^{-4}$ (en $\\|\\cdot\\|_{\\infty}$)?\n",
    "\n"
   ]
  },
  {
   "cell_type": "code",
   "execution_count": null,
   "metadata": {
    "id": "mqL4_Sjgl2r3"
   },
   "outputs": [],
   "source": [
    "#COMPLETAR"
   ]
  },
  {
   "cell_type": "markdown",
   "metadata": {
    "id": "2wRP31mSgQ5c"
   },
   "source": [
    "(c) Realizar experimentos numéricos para verificar las estimaciones del ítem anterior. Considerar $b=(3,2,2)^t$, que se corresponde con la solución exacta $x=(1,1,1)^t$. Generar vectores de error aleatorios, normalizarlos para que su norma sea tan chica como la estimada en el item anterior y perturbar $b$ obteniendo $\\tilde{b}$. Finalmente, resolver $A\\tilde{x}=\\tilde{b}$ y verificar que $\\|\\tilde{x}-x\\|<10^{-4}$."
   ]
  },
  {
   "cell_type": "code",
   "execution_count": null,
   "metadata": {
    "id": "5nggErzxl3In"
   },
   "outputs": [],
   "source": [
    "#COMPLETAR"
   ]
  }
 ],
 "metadata": {
  "colab": {
   "provenance": []
  },
  "kernelspec": {
   "display_name": "Python 3 (ipykernel)",
   "language": "python",
   "name": "python3"
  },
  "language_info": {
   "codemirror_mode": {
    "name": "ipython",
    "version": 3
   },
   "file_extension": ".py",
   "mimetype": "text/x-python",
   "name": "python",
   "nbconvert_exporter": "python",
   "pygments_lexer": "ipython3",
   "version": "3.10.9"
  }
 },
 "nbformat": 4,
 "nbformat_minor": 4
}
